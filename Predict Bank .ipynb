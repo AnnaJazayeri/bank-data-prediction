{
 "cells": [
  {
   "cell_type": "markdown",
   "metadata": {},
   "source": [
    "\n",
    "\n",
    "<center> <h1> <b><span style=\"color:brown\"> \n",
    "Predictive Analysis <br><br></h1>\n"
   ]
  },
  {
   "cell_type": "markdown",
   "metadata": {},
   "source": [
    "## Import the relevant libraries"
   ]
  },
  {
   "cell_type": "markdown",
   "metadata": {},
   "source": [
    "\n",
    "\n",
    "### information about the dataset: \n",
    "\n",
    "This data is derived from the marketing campaigns of a Portuguese banking institution. The primary objective is to forecast whether a client will opt for a term deposit (referred to as variable \"y\"). It is important to note that the interest rate pertains to the 3-month interest rate between banks, and the duration signifies the time elapsed since the most recent contact with a particular consumer. The preceding variable indicates whether the last marketing campaign proved successful with that customer. March and May are binary variables that signify when the call was made to the specific customer, and the \"credit\" variable indicates whether the customer possesses sufficient credit to avoid default. In our analysis, we utilize the dependent variable \"duration\" to predict \"y.\"\n"
   ]
  },
  {
   "cell_type": "markdown",
   "metadata": {},
   "source": [
    "### importing required libraries"
   ]
  },
  {
   "cell_type": "code",
   "execution_count": 1,
   "metadata": {},
   "outputs": [],
   "source": [
    "import pandas as pd\n",
    "from sklearn.linear_model import LogisticRegression\n",
    "from sklearn.model_selection import train_test_split\n",
    "import matplotlib.pyplot as plt\n",
    "import numpy as np\n",
    "from sklearn.metrics import classification_report, confusion_matrix\n",
    "from sklearn.metrics import precision_score, recall_score, f1_score, roc_auc_score, roc_curve, auc\n",
    "import statsmodels.api as sm"
   ]
  },
  {
   "cell_type": "markdown",
   "metadata": {},
   "source": [
    "### Load the Dataset:\n",
    "\n",
    "#### Reads the dataset from a CSV file named \"Bank_data.csv\" using pandas.\n",
    "#### Drops the \"Unnamed: 0\" column, which is likely an index column."
   ]
  },
  {
   "cell_type": "code",
   "execution_count": 2,
   "metadata": {},
   "outputs": [
    {
     "data": {
      "text/html": [
       "<div>\n",
       "<style scoped>\n",
       "    .dataframe tbody tr th:only-of-type {\n",
       "        vertical-align: middle;\n",
       "    }\n",
       "\n",
       "    .dataframe tbody tr th {\n",
       "        vertical-align: top;\n",
       "    }\n",
       "\n",
       "    .dataframe thead th {\n",
       "        text-align: right;\n",
       "    }\n",
       "</style>\n",
       "<table border=\"1\" class=\"dataframe\">\n",
       "  <thead>\n",
       "    <tr style=\"text-align: right;\">\n",
       "      <th></th>\n",
       "      <th>interest_rate</th>\n",
       "      <th>credit</th>\n",
       "      <th>march</th>\n",
       "      <th>may</th>\n",
       "      <th>previous</th>\n",
       "      <th>duration</th>\n",
       "      <th>y</th>\n",
       "    </tr>\n",
       "  </thead>\n",
       "  <tbody>\n",
       "    <tr>\n",
       "      <th>0</th>\n",
       "      <td>1.334</td>\n",
       "      <td>0.0</td>\n",
       "      <td>1.0</td>\n",
       "      <td>0.0</td>\n",
       "      <td>0.0</td>\n",
       "      <td>117.0</td>\n",
       "      <td>no</td>\n",
       "    </tr>\n",
       "    <tr>\n",
       "      <th>1</th>\n",
       "      <td>0.767</td>\n",
       "      <td>0.0</td>\n",
       "      <td>0.0</td>\n",
       "      <td>2.0</td>\n",
       "      <td>1.0</td>\n",
       "      <td>274.0</td>\n",
       "      <td>yes</td>\n",
       "    </tr>\n",
       "    <tr>\n",
       "      <th>2</th>\n",
       "      <td>4.858</td>\n",
       "      <td>0.0</td>\n",
       "      <td>1.0</td>\n",
       "      <td>0.0</td>\n",
       "      <td>0.0</td>\n",
       "      <td>167.0</td>\n",
       "      <td>no</td>\n",
       "    </tr>\n",
       "    <tr>\n",
       "      <th>3</th>\n",
       "      <td>4.120</td>\n",
       "      <td>0.0</td>\n",
       "      <td>0.0</td>\n",
       "      <td>0.0</td>\n",
       "      <td>0.0</td>\n",
       "      <td>686.0</td>\n",
       "      <td>yes</td>\n",
       "    </tr>\n",
       "    <tr>\n",
       "      <th>4</th>\n",
       "      <td>4.856</td>\n",
       "      <td>0.0</td>\n",
       "      <td>1.0</td>\n",
       "      <td>0.0</td>\n",
       "      <td>0.0</td>\n",
       "      <td>157.0</td>\n",
       "      <td>no</td>\n",
       "    </tr>\n",
       "    <tr>\n",
       "      <th>...</th>\n",
       "      <td>...</td>\n",
       "      <td>...</td>\n",
       "      <td>...</td>\n",
       "      <td>...</td>\n",
       "      <td>...</td>\n",
       "      <td>...</td>\n",
       "      <td>...</td>\n",
       "    </tr>\n",
       "    <tr>\n",
       "      <th>513</th>\n",
       "      <td>1.334</td>\n",
       "      <td>0.0</td>\n",
       "      <td>1.0</td>\n",
       "      <td>0.0</td>\n",
       "      <td>0.0</td>\n",
       "      <td>204.0</td>\n",
       "      <td>no</td>\n",
       "    </tr>\n",
       "    <tr>\n",
       "      <th>514</th>\n",
       "      <td>0.861</td>\n",
       "      <td>0.0</td>\n",
       "      <td>0.0</td>\n",
       "      <td>2.0</td>\n",
       "      <td>1.0</td>\n",
       "      <td>806.0</td>\n",
       "      <td>yes</td>\n",
       "    </tr>\n",
       "    <tr>\n",
       "      <th>515</th>\n",
       "      <td>0.879</td>\n",
       "      <td>0.0</td>\n",
       "      <td>0.0</td>\n",
       "      <td>0.0</td>\n",
       "      <td>0.0</td>\n",
       "      <td>290.0</td>\n",
       "      <td>no</td>\n",
       "    </tr>\n",
       "    <tr>\n",
       "      <th>516</th>\n",
       "      <td>0.877</td>\n",
       "      <td>0.0</td>\n",
       "      <td>0.0</td>\n",
       "      <td>5.0</td>\n",
       "      <td>1.0</td>\n",
       "      <td>473.0</td>\n",
       "      <td>yes</td>\n",
       "    </tr>\n",
       "    <tr>\n",
       "      <th>517</th>\n",
       "      <td>4.965</td>\n",
       "      <td>0.0</td>\n",
       "      <td>0.0</td>\n",
       "      <td>0.0</td>\n",
       "      <td>0.0</td>\n",
       "      <td>142.0</td>\n",
       "      <td>no</td>\n",
       "    </tr>\n",
       "  </tbody>\n",
       "</table>\n",
       "<p>518 rows × 7 columns</p>\n",
       "</div>"
      ],
      "text/plain": [
       "     interest_rate  credit  march  may  previous  duration    y\n",
       "0            1.334     0.0    1.0  0.0       0.0     117.0   no\n",
       "1            0.767     0.0    0.0  2.0       1.0     274.0  yes\n",
       "2            4.858     0.0    1.0  0.0       0.0     167.0   no\n",
       "3            4.120     0.0    0.0  0.0       0.0     686.0  yes\n",
       "4            4.856     0.0    1.0  0.0       0.0     157.0   no\n",
       "..             ...     ...    ...  ...       ...       ...  ...\n",
       "513          1.334     0.0    1.0  0.0       0.0     204.0   no\n",
       "514          0.861     0.0    0.0  2.0       1.0     806.0  yes\n",
       "515          0.879     0.0    0.0  0.0       0.0     290.0   no\n",
       "516          0.877     0.0    0.0  5.0       1.0     473.0  yes\n",
       "517          4.965     0.0    0.0  0.0       0.0     142.0   no\n",
       "\n",
       "[518 rows x 7 columns]"
      ]
     },
     "execution_count": 2,
     "metadata": {},
     "output_type": "execute_result"
    }
   ],
   "source": [
    "# Load the dataset\n",
    "data = pd.read_csv(\"dataset.csv\")\n",
    "data = data.drop(columns=['Unnamed: 0'])\n",
    "data"
   ]
  },
  {
   "cell_type": "markdown",
   "metadata": {},
   "source": [
    "### Explanation:\n",
    "\n",
    "The following code helps change words 'yes' and 'no' into numbers, which is something we often do in machine learning when we're working with problems where we need to classify things into two groups.\n",
    "\n",
    "In our dataset and for our problem, we're trying to predict if a person signs up for a service or not. Originally, we had 'yes' and 'no' to show this. But many machine learning methods, including the one we're using here (logistic regression), need numbers to work. So, we turn 'yes' into 1 and 'no' into 0 to make it easier for the model to understand and make predictions. This way, '1' means \"yes, they signed up,\" and '0' means \"no, they didn't sign up.\"\n",
    "\n",
    "* Model Compatibility: Machine learning models, including logistic regression, require numerical input for training and prediction. Categorical values like 'yes' and 'no' need to be converted into numerical form for the model to understand and learn from them.\n",
    "\n",
    "* Binary Classification: In binary classification problems, it's common to map one class to 0 and the other to 1. In our case, we are mapping 'no' to 0 and 'yes' to 1, which means 'yes' indicates the positive class (subscribed) and 'no' indicates the negative class (not subscribed).\n",
    "\n",
    "* Consistency: By mapping 'yes' to 1 and 'no' to 0, we establish a consistent encoding that is understandable by the model. This ensures that the model treats 'yes' as a higher numerical value and 'no' as a lower value, which reflects the nature of the target variable.\n",
    "\n",
    "After this transformation, our target variable 'y' is suitable for use in logistic regression and other machine learning models that require binary classification. The model will use this encoded variable to make predictions and calculate relevant metrics like accuracy, precision, recall, and F1-score."
   ]
  },
  {
   "cell_type": "code",
   "execution_count": 3,
   "metadata": {},
   "outputs": [
    {
     "data": {
      "text/html": [
       "<div>\n",
       "<style scoped>\n",
       "    .dataframe tbody tr th:only-of-type {\n",
       "        vertical-align: middle;\n",
       "    }\n",
       "\n",
       "    .dataframe tbody tr th {\n",
       "        vertical-align: top;\n",
       "    }\n",
       "\n",
       "    .dataframe thead th {\n",
       "        text-align: right;\n",
       "    }\n",
       "</style>\n",
       "<table border=\"1\" class=\"dataframe\">\n",
       "  <thead>\n",
       "    <tr style=\"text-align: right;\">\n",
       "      <th></th>\n",
       "      <th>interest_rate</th>\n",
       "      <th>credit</th>\n",
       "      <th>march</th>\n",
       "      <th>may</th>\n",
       "      <th>previous</th>\n",
       "      <th>duration</th>\n",
       "      <th>y</th>\n",
       "    </tr>\n",
       "  </thead>\n",
       "  <tbody>\n",
       "    <tr>\n",
       "      <th>0</th>\n",
       "      <td>1.334</td>\n",
       "      <td>0.0</td>\n",
       "      <td>1.0</td>\n",
       "      <td>0.0</td>\n",
       "      <td>0.0</td>\n",
       "      <td>117.0</td>\n",
       "      <td>0</td>\n",
       "    </tr>\n",
       "    <tr>\n",
       "      <th>1</th>\n",
       "      <td>0.767</td>\n",
       "      <td>0.0</td>\n",
       "      <td>0.0</td>\n",
       "      <td>2.0</td>\n",
       "      <td>1.0</td>\n",
       "      <td>274.0</td>\n",
       "      <td>1</td>\n",
       "    </tr>\n",
       "    <tr>\n",
       "      <th>2</th>\n",
       "      <td>4.858</td>\n",
       "      <td>0.0</td>\n",
       "      <td>1.0</td>\n",
       "      <td>0.0</td>\n",
       "      <td>0.0</td>\n",
       "      <td>167.0</td>\n",
       "      <td>0</td>\n",
       "    </tr>\n",
       "    <tr>\n",
       "      <th>3</th>\n",
       "      <td>4.120</td>\n",
       "      <td>0.0</td>\n",
       "      <td>0.0</td>\n",
       "      <td>0.0</td>\n",
       "      <td>0.0</td>\n",
       "      <td>686.0</td>\n",
       "      <td>1</td>\n",
       "    </tr>\n",
       "    <tr>\n",
       "      <th>4</th>\n",
       "      <td>4.856</td>\n",
       "      <td>0.0</td>\n",
       "      <td>1.0</td>\n",
       "      <td>0.0</td>\n",
       "      <td>0.0</td>\n",
       "      <td>157.0</td>\n",
       "      <td>0</td>\n",
       "    </tr>\n",
       "    <tr>\n",
       "      <th>...</th>\n",
       "      <td>...</td>\n",
       "      <td>...</td>\n",
       "      <td>...</td>\n",
       "      <td>...</td>\n",
       "      <td>...</td>\n",
       "      <td>...</td>\n",
       "      <td>...</td>\n",
       "    </tr>\n",
       "    <tr>\n",
       "      <th>513</th>\n",
       "      <td>1.334</td>\n",
       "      <td>0.0</td>\n",
       "      <td>1.0</td>\n",
       "      <td>0.0</td>\n",
       "      <td>0.0</td>\n",
       "      <td>204.0</td>\n",
       "      <td>0</td>\n",
       "    </tr>\n",
       "    <tr>\n",
       "      <th>514</th>\n",
       "      <td>0.861</td>\n",
       "      <td>0.0</td>\n",
       "      <td>0.0</td>\n",
       "      <td>2.0</td>\n",
       "      <td>1.0</td>\n",
       "      <td>806.0</td>\n",
       "      <td>1</td>\n",
       "    </tr>\n",
       "    <tr>\n",
       "      <th>515</th>\n",
       "      <td>0.879</td>\n",
       "      <td>0.0</td>\n",
       "      <td>0.0</td>\n",
       "      <td>0.0</td>\n",
       "      <td>0.0</td>\n",
       "      <td>290.0</td>\n",
       "      <td>0</td>\n",
       "    </tr>\n",
       "    <tr>\n",
       "      <th>516</th>\n",
       "      <td>0.877</td>\n",
       "      <td>0.0</td>\n",
       "      <td>0.0</td>\n",
       "      <td>5.0</td>\n",
       "      <td>1.0</td>\n",
       "      <td>473.0</td>\n",
       "      <td>1</td>\n",
       "    </tr>\n",
       "    <tr>\n",
       "      <th>517</th>\n",
       "      <td>4.965</td>\n",
       "      <td>0.0</td>\n",
       "      <td>0.0</td>\n",
       "      <td>0.0</td>\n",
       "      <td>0.0</td>\n",
       "      <td>142.0</td>\n",
       "      <td>0</td>\n",
       "    </tr>\n",
       "  </tbody>\n",
       "</table>\n",
       "<p>518 rows × 7 columns</p>\n",
       "</div>"
      ],
      "text/plain": [
       "     interest_rate  credit  march  may  previous  duration  y\n",
       "0            1.334     0.0    1.0  0.0       0.0     117.0  0\n",
       "1            0.767     0.0    0.0  2.0       1.0     274.0  1\n",
       "2            4.858     0.0    1.0  0.0       0.0     167.0  0\n",
       "3            4.120     0.0    0.0  0.0       0.0     686.0  1\n",
       "4            4.856     0.0    1.0  0.0       0.0     157.0  0\n",
       "..             ...     ...    ...  ...       ...       ... ..\n",
       "513          1.334     0.0    1.0  0.0       0.0     204.0  0\n",
       "514          0.861     0.0    0.0  2.0       1.0     806.0  1\n",
       "515          0.879     0.0    0.0  0.0       0.0     290.0  0\n",
       "516          0.877     0.0    0.0  5.0       1.0     473.0  1\n",
       "517          4.965     0.0    0.0  0.0       0.0     142.0  0\n",
       "\n",
       "[518 rows x 7 columns]"
      ]
     },
     "execution_count": 3,
     "metadata": {},
     "output_type": "execute_result"
    }
   ],
   "source": [
    "# Use the map function to change 'yes' values to 1 and 'no' values to 0\n",
    "data['y'] = data['y'].map({\"yes\": 1, \"no\": 0})\n",
    "data"
   ]
  },
  {
   "cell_type": "code",
   "execution_count": 4,
   "metadata": {},
   "outputs": [
    {
     "name": "stdout",
     "output_type": "stream",
     "text": [
      "<class 'pandas.core.frame.DataFrame'>\n",
      "RangeIndex: 518 entries, 0 to 517\n",
      "Data columns (total 7 columns):\n",
      " #   Column         Non-Null Count  Dtype  \n",
      "---  ------         --------------  -----  \n",
      " 0   interest_rate  518 non-null    float64\n",
      " 1   credit         518 non-null    float64\n",
      " 2   march          518 non-null    float64\n",
      " 3   may            518 non-null    float64\n",
      " 4   previous       518 non-null    float64\n",
      " 5   duration       518 non-null    float64\n",
      " 6   y              518 non-null    int64  \n",
      "dtypes: float64(6), int64(1)\n",
      "memory usage: 28.5 KB\n"
     ]
    }
   ],
   "source": [
    "data.info()"
   ]
  },
  {
   "cell_type": "markdown",
   "metadata": {},
   "source": [
    "### Checking the missing values"
   ]
  },
  {
   "cell_type": "code",
   "execution_count": 5,
   "metadata": {},
   "outputs": [
    {
     "data": {
      "text/plain": [
       "interest_rate    0\n",
       "credit           0\n",
       "march            0\n",
       "may              0\n",
       "previous         0\n",
       "duration         0\n",
       "y                0\n",
       "dtype: int64"
      ]
     },
     "execution_count": 5,
     "metadata": {},
     "output_type": "execute_result"
    }
   ],
   "source": [
    "miss = data.isna()\n",
    "miss.sum()"
   ]
  },
  {
   "cell_type": "markdown",
   "metadata": {},
   "source": [
    "### Feature Selection:\n",
    "Declare the dependent and independent variables\n",
    "Selects the 'duration' column as the independent variable (predictor) and assigns it to x.\n",
    "Selects the 'y' column as the dependent variable (target) and assigns it to y. In this case, we're trying to predict whether a client subscribes based on the duration of the last contact."
   ]
  },
  {
   "cell_type": "markdown",
   "metadata": {},
   "source": [
    "Use 'duration' as the independent variable."
   ]
  },
  {
   "cell_type": "code",
   "execution_count": 6,
   "metadata": {},
   "outputs": [],
   "source": [
    "# Use 'duration' as the independent variable\n",
    "x = data[[\"duration\"]]\n",
    "y = data[\"y\"]"
   ]
  },
  {
   "cell_type": "markdown",
   "metadata": {},
   "source": [
    "### Data Split: we should split our data into training and testing sets to evaluate the model's performance. we can use the train_test_split function for this purpose.\n",
    "\n",
    "The \"Train-Test Split\" is like a crucial dividing step in machine learning, and it helps us understand its parts:\n",
    "\n",
    "Splitting the data: We take all our data and split it into two groups - one for teaching the model (the training set) and the other to check how well the model learned (the testing set).\n",
    "\n",
    "Dividing the data: Each of these groups is further divided into two parts:\n",
    "* The part that contains the information we use to teach the model (features), which we call x_train for training data and x_test for testing data.\n",
    "* The part that has the answers we want the model to predict (target), which we call y_train for training and y_test for testing.\n",
    "\n",
    "Reserving a piece for testing: We decide to keep 20% of our data for testing, and the rest, 80%, is used for teaching our model. This 20% is like a sample to check how well the model is doing.\n",
    "\n",
    "Ensuring reproducibility: To make sure our results are consistent every time we run the code, we set a random seed (called random_state). It's like using a fixed starting point for randomness, so we get the same split every time.\n",
    "\n",
    "So, in a nutshell, we split our data into parts: one to teach the model and the other to check its performance. This helps us measure how well the model has learned and is a standard practice in machine learning.\n",
    "\n"
   ]
  },
  {
   "cell_type": "code",
   "execution_count": 7,
   "metadata": {},
   "outputs": [],
   "source": [
    "# Split the data into training and testing sets\n",
    "x_train, x_test, y_train, y_test = train_test_split(x, y, test_size=0.2, random_state=0)\n"
   ]
  },
  {
   "cell_type": "markdown",
   "metadata": {},
   "source": [
    "### Create a logistic regression model\n",
    "\n",
    "Creates a logistic regression model using LogisticRegression from scikit-learn:\n",
    "\n",
    "In machine learning, a model is like a mathematical tool that helps us make predictions based on data. A logistic regression model is one such tool used for classification problems, like determining if a customer will buy a product (yes/no).\n",
    "\n",
    "We're using the LogisticRegression function from a popular Python library called scikit-learn to build this model. Scikit-learn provides tools to create, train, and evaluate machine learning models.\n",
    "\n",
    "The model uses the 'liblinear' solver and a random state for reproducibility:\n",
    "\n",
    "A \"solver\" is a method that the logistic regression model uses to find the best fit for the data. 'liblinear' is one of the solver methods. It's chosen based on the characteristics of your dataset, and different solvers are suitable for different types of data.\n",
    "\n",
    "\"Random state\" is like setting a starting point for randomness. This means if you run the model multiple times with the same random state, you will get the same results. It's useful for making your experiments reproducible and consistent.\n",
    "Fits (trains) the model on the training data using model.fit(x_train, y_train):\n",
    "\n",
    "To teach the model how to make predictions, we use the training data. The model.fit(x_train, y_train) command is like a teacher instructing the model.\n",
    "\n",
    "* x_train contains the information (features) that we use to make predictions. For example, it could be data about customers' past behavior.\n",
    "* y_train contains the correct answers or outcomes. In this case, it's whether a customer bought a product (1 for yes, 0 for no).\n",
    "\n",
    "The model adjusts its settings while looking at the training data. It's like a teacher learning from the past to make better predictions about the future.\n",
    "In a nutshell, this part of the code creates a logistic regression model, chooses settings for how it learns from data, and then trains it using the training data. Once the model is trained, it can make predictions about new, unseen data."
   ]
  },
  {
   "cell_type": "code",
   "execution_count": 8,
   "metadata": {},
   "outputs": [
    {
     "data": {
      "text/html": [
       "<style>#sk-container-id-1 {color: black;}#sk-container-id-1 pre{padding: 0;}#sk-container-id-1 div.sk-toggleable {background-color: white;}#sk-container-id-1 label.sk-toggleable__label {cursor: pointer;display: block;width: 100%;margin-bottom: 0;padding: 0.3em;box-sizing: border-box;text-align: center;}#sk-container-id-1 label.sk-toggleable__label-arrow:before {content: \"▸\";float: left;margin-right: 0.25em;color: #696969;}#sk-container-id-1 label.sk-toggleable__label-arrow:hover:before {color: black;}#sk-container-id-1 div.sk-estimator:hover label.sk-toggleable__label-arrow:before {color: black;}#sk-container-id-1 div.sk-toggleable__content {max-height: 0;max-width: 0;overflow: hidden;text-align: left;background-color: #f0f8ff;}#sk-container-id-1 div.sk-toggleable__content pre {margin: 0.2em;color: black;border-radius: 0.25em;background-color: #f0f8ff;}#sk-container-id-1 input.sk-toggleable__control:checked~div.sk-toggleable__content {max-height: 200px;max-width: 100%;overflow: auto;}#sk-container-id-1 input.sk-toggleable__control:checked~label.sk-toggleable__label-arrow:before {content: \"▾\";}#sk-container-id-1 div.sk-estimator input.sk-toggleable__control:checked~label.sk-toggleable__label {background-color: #d4ebff;}#sk-container-id-1 div.sk-label input.sk-toggleable__control:checked~label.sk-toggleable__label {background-color: #d4ebff;}#sk-container-id-1 input.sk-hidden--visually {border: 0;clip: rect(1px 1px 1px 1px);clip: rect(1px, 1px, 1px, 1px);height: 1px;margin: -1px;overflow: hidden;padding: 0;position: absolute;width: 1px;}#sk-container-id-1 div.sk-estimator {font-family: monospace;background-color: #f0f8ff;border: 1px dotted black;border-radius: 0.25em;box-sizing: border-box;margin-bottom: 0.5em;}#sk-container-id-1 div.sk-estimator:hover {background-color: #d4ebff;}#sk-container-id-1 div.sk-parallel-item::after {content: \"\";width: 100%;border-bottom: 1px solid gray;flex-grow: 1;}#sk-container-id-1 div.sk-label:hover label.sk-toggleable__label {background-color: #d4ebff;}#sk-container-id-1 div.sk-serial::before {content: \"\";position: absolute;border-left: 1px solid gray;box-sizing: border-box;top: 0;bottom: 0;left: 50%;z-index: 0;}#sk-container-id-1 div.sk-serial {display: flex;flex-direction: column;align-items: center;background-color: white;padding-right: 0.2em;padding-left: 0.2em;position: relative;}#sk-container-id-1 div.sk-item {position: relative;z-index: 1;}#sk-container-id-1 div.sk-parallel {display: flex;align-items: stretch;justify-content: center;background-color: white;position: relative;}#sk-container-id-1 div.sk-item::before, #sk-container-id-1 div.sk-parallel-item::before {content: \"\";position: absolute;border-left: 1px solid gray;box-sizing: border-box;top: 0;bottom: 0;left: 50%;z-index: -1;}#sk-container-id-1 div.sk-parallel-item {display: flex;flex-direction: column;z-index: 1;position: relative;background-color: white;}#sk-container-id-1 div.sk-parallel-item:first-child::after {align-self: flex-end;width: 50%;}#sk-container-id-1 div.sk-parallel-item:last-child::after {align-self: flex-start;width: 50%;}#sk-container-id-1 div.sk-parallel-item:only-child::after {width: 0;}#sk-container-id-1 div.sk-dashed-wrapped {border: 1px dashed gray;margin: 0 0.4em 0.5em 0.4em;box-sizing: border-box;padding-bottom: 0.4em;background-color: white;}#sk-container-id-1 div.sk-label label {font-family: monospace;font-weight: bold;display: inline-block;line-height: 1.2em;}#sk-container-id-1 div.sk-label-container {text-align: center;}#sk-container-id-1 div.sk-container {/* jupyter's `normalize.less` sets `[hidden] { display: none; }` but bootstrap.min.css set `[hidden] { display: none !important; }` so we also need the `!important` here to be able to override the default hidden behavior on the sphinx rendered scikit-learn.org. See: https://github.com/scikit-learn/scikit-learn/issues/21755 */display: inline-block !important;position: relative;}#sk-container-id-1 div.sk-text-repr-fallback {display: none;}</style><div id=\"sk-container-id-1\" class=\"sk-top-container\"><div class=\"sk-text-repr-fallback\"><pre>LogisticRegression(random_state=0, solver=&#x27;liblinear&#x27;)</pre><b>In a Jupyter environment, please rerun this cell to show the HTML representation or trust the notebook. <br />On GitHub, the HTML representation is unable to render, please try loading this page with nbviewer.org.</b></div><div class=\"sk-container\" hidden><div class=\"sk-item\"><div class=\"sk-estimator sk-toggleable\"><input class=\"sk-toggleable__control sk-hidden--visually\" id=\"sk-estimator-id-1\" type=\"checkbox\" checked><label for=\"sk-estimator-id-1\" class=\"sk-toggleable__label sk-toggleable__label-arrow\">LogisticRegression</label><div class=\"sk-toggleable__content\"><pre>LogisticRegression(random_state=0, solver=&#x27;liblinear&#x27;)</pre></div></div></div></div></div>"
      ],
      "text/plain": [
       "LogisticRegression(random_state=0, solver='liblinear')"
      ]
     },
     "execution_count": 8,
     "metadata": {},
     "output_type": "execute_result"
    }
   ],
   "source": [
    "# Create a logistic regression model\n",
    "model = LogisticRegression(solver='liblinear', random_state=0)\n",
    "model.fit(x_train.values, y_train.values)"
   ]
  },
  {
   "cell_type": "markdown",
   "metadata": {},
   "source": [
    "### Intercept and coefficient of our model\n",
    "\n",
    "* Print the Intercept:\n",
    "\n",
    "The model.intercept_ represents the intercept term of the logistic regression model. In simple words, it's like a starting point or baseline value.\n",
    "\n",
    "When we make predictions with a logistic regression model, this value (the intercept) is added to the calculations. It affects the prediction but doesn't depend on any specific input feature. It's a constant value that helps shift the prediction up or down.\n",
    "\n",
    "Printing \"Intercept:\" followed by model.intercept_ is a way to see what this baseline value is.\n",
    "\n",
    "\n",
    "* Print the Coefficient:\n",
    "\n",
    "The model.coef_ represents the coefficient(s) of the logistic regression model. Coefficients are like weights or factors that are assigned to each input feature (independent variable) in our data.\n",
    "\n",
    "These coefficients tell us how much each feature influences the model's predictions. If a feature has a positive coefficient, it means that an increase in that feature's value makes it more likely for the model to predict the positive outcome. If it has a negative coefficient, it means the opposite.\n",
    "\n",
    "Printing \"Coefficient:\" followed by model.coef_ is a way to see the specific weights assigned to each feature in our data. It helps us understand the impact of each feature on the prediction.\n",
    "\n",
    "In summary, the code is printing the intercept (baseline value) and the coefficients (weights) of the logistic regression model. These values give us insights into how the model makes predictions and how much each feature influences those predictions. It's a way to understand the inner workings of the model and its decision-making process."
   ]
  },
  {
   "cell_type": "code",
   "execution_count": 9,
   "metadata": {},
   "outputs": [
    {
     "name": "stdout",
     "output_type": "stream",
     "text": [
      "Intercept: [-1.60687383]\n",
      "Coefficient: [[0.00455103]]\n"
     ]
    }
   ],
   "source": [
    "# Print the intercept and coefficient of the model\n",
    "print(\"Intercept:\", model.intercept_)\n",
    "print(\"Coefficient:\", model.coef_)"
   ]
  },
  {
   "cell_type": "markdown",
   "metadata": {},
   "source": [
    "### Make Predictions on the Test Set:\n",
    "\n",
    "The following code is all about using the trained logistic regression model to make predictions on data it hasn't seen before. This new data is called the \"test set.\"\n",
    "\n",
    "Think of it like a robot who has learned from a textbook (the training data) and is now going to answer questions (make predictions) based on a new set of problems (the test data).\n",
    "\n",
    "predictions = model.predict(x_test.values):\n",
    "\n",
    "model.predict() is like the robot providing answers. It takes the test data (features or input) as x_test.values and uses the trained model to predict the outcomes.\n",
    "\n",
    "The predictions are like the robot's answers to questions. In this case, the model is predicting whether each customer in the test set will subscribe to a term deposit (yes or no) based on the duration of the last contact.\n",
    "\n",
    "These predictions will be compared to the actual outcomes in the test set to see how well the model is doing at making accurate predictions.\n",
    "\n",
    "So, this part of the code is all about using the trained model to guess what's going to happen with new data, and these guesses are stored in the predictions variable for later evaluation.\n"
   ]
  },
  {
   "cell_type": "code",
   "execution_count": 10,
   "metadata": {},
   "outputs": [],
   "source": [
    "# Make predictions on the test set\n",
    "predictions = model.predict(x_test.values)"
   ]
  },
  {
   "cell_type": "markdown",
   "metadata": {},
   "source": [
    "### Calculate the Accuracy of the Model:\n",
    "\n",
    "the following code is all about figuring out how good the model is at making correct predictions. We want to know if it's accurate or not.\n",
    "\n",
    "accuracy = model.score(x_test.values, y_test.values):\n",
    "\n",
    "model.score() is like a tool that checks how many of the model's predictions match the actual answers (the test data).\n",
    "\n",
    "It's as if we're grading the model's answers. We compare the predictions (what the model thinks) in x_test.values to the real outcomes (the correct answers) in y_test.values.\n",
    "\n",
    "The result, stored in the accuracy variable, tells us the percentage of correct answers. A higher accuracy means the model is better at making predictions.\n",
    "\n",
    "Print \"Model Accuracy:\" followed by accuracy:\n",
    "\n",
    "This line simply displays the accuracy as a number. For example, if the accuracy is 0.67, it means the model got 67% of the answers right.\n",
    "\n",
    "In a nutshell, this code helps us understand how well the model is doing by measuring the percentage of correct predictions. The accuracy score tells us how accurate the model's guesses are when compared to the real answers.\n"
   ]
  },
  {
   "cell_type": "code",
   "execution_count": 11,
   "metadata": {},
   "outputs": [
    {
     "name": "stdout",
     "output_type": "stream",
     "text": [
      "Model Accuracy: 0.6730769230769231\n"
     ]
    }
   ],
   "source": [
    "# Calculate the accuracy of the model\n",
    "accuracy = model.score(x_test.values, y_test.values)\n",
    "print(\"Model Accuracy:\", accuracy)"
   ]
  },
  {
   "cell_type": "markdown",
   "metadata": {},
   "source": [
    "### Print the Classification Report and Confusion Matrix:\n",
    "This part of the code is all about assessing how well the model is performing in more detail. It provides a breakdown of various metrics to evaluate the model's classification accuracy.\n",
    "\n",
    "1- Print \"Classification Report:\":\n",
    "This line is simply indicating that the following information is the \"Classification Report.\" It's like a title.\n",
    "\n",
    "2- classification_report(y_test.values, predictions):\n",
    "* The classification_report is a tool that calculates and displays various metrics that help evaluate the model's performance. It compares the model's predictions (in predictions) to the actual answers (in y_test.values).\n",
    "* It provides details such as precision, recall, F1-score, and support for each class. These metrics give insights into how well the model is doing for different outcomes (e.g., how well it predicts 'yes' and 'no').\n",
    "\n",
    "3- Print \"Confusion Matrix:\":\n",
    "Similar to the classification report, this line indicates that the following information is the \"Confusion Matrix.\" It's like another title.\n",
    "\n",
    "4- confusion_matrix(y_test.values, predictions):\n",
    "* The confusion matrix is a tabular representation that summarizes the performance of a classification model. It shows how many predictions are true positives, true negatives, false positives, and false negatives.\n",
    "* It's a way to understand where the model is making correct and incorrect predictions. For example, it helps you see how many actual 'yes' cases were correctly predicted as 'yes' (true positives) and how many 'no' cases were mistakenly predicted as 'yes' (false positives).\n",
    "\n",
    "In simple terms, the code helps us dig deeper into the model's performance by displaying a report with various metrics (classification report) and a table (confusion matrix) that shows where the model is getting things right and where it might be making mistakes. These tools provide more insight than just looking at overall accuracy.\n"
   ]
  },
  {
   "cell_type": "code",
   "execution_count": 12,
   "metadata": {},
   "outputs": [
    {
     "name": "stdout",
     "output_type": "stream",
     "text": [
      "Classification Report:\n",
      "               precision    recall  f1-score   support\n",
      "\n",
      "           0       0.57      0.86      0.69        43\n",
      "           1       0.85      0.54      0.66        61\n",
      "\n",
      "    accuracy                           0.67       104\n",
      "   macro avg       0.71      0.70      0.67       104\n",
      "weighted avg       0.73      0.67      0.67       104\n",
      "\n",
      "Confusion Matrix:\n",
      " [[37  6]\n",
      " [28 33]]\n"
     ]
    }
   ],
   "source": [
    "# print the classification report and confusion matrix\n",
    "\n",
    "print(\"Classification Report:\\n\", classification_report(y_test.values, predictions))\n",
    "print(\"Confusion Matrix:\\n\", confusion_matrix(y_test.values, predictions))"
   ]
  },
  {
   "cell_type": "markdown",
   "metadata": {},
   "source": [
    "### Interpretation of classifcation report and confusion matrix:\n",
    "\n",
    "##### Precision:\n",
    "\n",
    "* For class '0': About 57% of predictions for '0' were correct.\n",
    "* For class '1': About 85% of predictions for '1' were correct.\n",
    "\n",
    "##### Recall (Sensitivity):\n",
    "\n",
    "* or class '0': About 86% of actual '0' cases were correctly predicted.\n",
    "* For class '1': About 54% of actual '1' cases were correctly predicted.\n",
    "\n",
    "##### F1-Score:\n",
    "\n",
    "* For class '0': The model balances precision and recall to achieve an F1-score of 0.69.\n",
    "* For class '1': The model also balances precision and recall to achieve an F1-score of 0.66.\n",
    "\n",
    "##### Support:\n",
    "\n",
    "* There are 43 samples of class '0' and 61 samples of class '1' in your test set.\n",
    "\n",
    "#### Accuracy:\n",
    "\n",
    "* The overall accuracy of the model is 67%, indicating that about 67% of the predictions in the test set are correct.\n",
    "\n",
    "##### Macro Avg and Weighted Avg:\n",
    "\n",
    "* These averages provide an overall summary of the model's performance, treating each class equally in the \"Macro Avg\" and accounting for class distribution in the \"Weighted Avg.\"\n",
    "\n",
    "##### Confusion Matrix:\n",
    "\n",
    "* True Negatives (actual '0' correctly predicted as '0'): 37\n",
    "* False Positives (actual '0' mistakenly predicted as '1'): 6\n",
    "* False Negatives (actual '1' mistakenly predicted as '0'): 28\n",
    "* True Positives (actual '1' correctly predicted as '1'): 33\n",
    "\n",
    "In summary, our model shows a reasonable performance in terms of precision, recall, and F1-score for both classes. It correctly predicts a significant portion of the negative class but has some difficulty with the positive class. The overall accuracy is 67%, indicating that it correctly predicts about two-thirds of the test set. The confusion matrix provides a detailed breakdown of the model's correct and incorrect predictions.\n",
    "\n"
   ]
  },
  {
   "cell_type": "markdown",
   "metadata": {},
   "source": [
    "## Visualization\n",
    "\n",
    "\n",
    "This part of the code is about creating a plot to visualize the logistic regression model's predictions:\n",
    "\n",
    "Create a Range of x Values for the Plot:\n",
    "\n",
    "x_values is a set of numbers that will be used on the x-axis of the plot. It starts from the minimum value in our original data x, goes up to the maximum value, and creates 1000 evenly spaced points in between.\n",
    "Having more points (1000 in this case) makes the plot's curve smoother and more detailed.\n",
    "\n",
    "Calculate the Predicted Probabilities for the x Values:\n",
    "\n",
    "The model.predict_proba(x_values.reshape(-1, 1)) part calculates the predicted probabilities of the positive class (usually '1') for each of the x_values.\n",
    "\n",
    "These probabilities tell us how likely it is for a customer to subscribe to a term deposit based on the duration of the last contact. The [:, 1] part extracts the probabilities for the positive class.\n",
    "\n",
    "In summary, this code creates a visual representation of how the logistic regression model's predictions change as the duration of the last contact varies. The red curve illustrates how the probability of a subscription changes with different durations. It helps us understand the relationship between the input (duration) and the model's predictions.\n",
    "\n"
   ]
  },
  {
   "cell_type": "code",
   "execution_count": 13,
   "metadata": {
    "scrolled": false
   },
   "outputs": [
    {
     "data": {
      "image/png": "[encoded data removed]",
      "text/plain": [
       "<Figure size 800x600 with 1 Axes>"
      ]
     },
     "metadata": {},
     "output_type": "display_data"
    }
   ],
   "source": [
    "# Create a range of x values for the plot\n",
    "x_values = np.linspace(x.min(), x.max(), 1000)  # Increase the number of points for a smoother curve\n",
    "\n",
    "# Calculate the predicted probabilities for the x values\n",
    "y_probabilities = model.predict_proba(x_values.reshape(-1, 1))[:, 1]\n",
    "\n",
    "# Plot the logistic curve\n",
    "plt.figure(figsize=(8, 6))\n",
    "plt.scatter(x, y, color='blue', label='Data points')\n",
    "plt.plot(x_values, y_probabilities, color='red', label='Logistic Regression')\n",
    "plt.xlabel('Duration')\n",
    "plt.ylabel('Probability of Subscription')\n",
    "plt.legend()\n",
    "plt.show()"
   ]
  },
  {
   "cell_type": "markdown",
   "metadata": {},
   "source": [
    "## Pseudo R-squared"
   ]
  },
  {
   "cell_type": "code",
   "execution_count": 14,
   "metadata": {},
   "outputs": [
    {
     "name": "stdout",
     "output_type": "stream",
     "text": [
      "Optimization terminated successfully.\n",
      "         Current function value: 0.335942\n",
      "         Iterations 7\n",
      "Pseudo R-squared (McFadden): 0.5153385192364679\n"
     ]
    }
   ],
   "source": [
    "# Define the independent variables (features) and the dependent variable (target)\n",
    "X2 = data[['duration', 'interest_rate', 'credit', 'march', 'may', 'previous']]\n",
    "y2 = data[\"y\"]\n",
    "\n",
    "# Add a constant term to the independent variables for the intercept\n",
    "X2 = sm.add_constant(X2)\n",
    "\n",
    "# Fit the logistic regression model\n",
    "model2 = sm.Logit(y2, X2)\n",
    "result = model2.fit()\n",
    "\n",
    "# Calculate the Pseudo R-squared (McFadden R-squared)\n",
    "# This is just one of several methods\n",
    "pseudo_r2 = 1 - (result.llf / result.llnull)\n",
    "print(\"Pseudo R-squared (McFadden):\", pseudo_r2)\n",
    "\n"
   ]
  },
  {
   "cell_type": "markdown",
   "metadata": {},
   "source": [
    "## Pseudo R-squared\n",
    "\n",
    "\"Optimization terminated successfully\": This message indicates that the optimization algorithm used to fit the logistic regression model has completed successfully without any issues. In other words, the model converged to a solution.\n",
    "\n",
    "\"Current function value: 0.335942\": This value represents the value of the negative log-likelihood (the function that the logistic regression model is trying to minimize) at the estimated coefficients. The closer this value is to zero, the better the fit of the model to the data. In your case, the value is 0.335942, which is relatively low and indicates a reasonable fit.\n",
    "\n",
    "\"Iterations 7\": This tells you the number of iterations it took for the optimization algorithm to converge to the solution. In this case, it took 7 iterations.\n",
    "\n",
    "\"Pseudo R-squared (McFadden): 0.5153385192364679\": The Pseudo R-squared (McFadden) is a measure of the goodness of fit for logistic regression models. It's a measure of how well the model explains the variance in the data. A higher value indicates a better fit. In your case, the Pseudo R-squared is 0.5153, which suggests that the model is explaining a substantial portion of the variance in the data, indicating a reasonably good fit.\n",
    "\n",
    "Overall, our logistic regression model seems to have converged successfully, and the Pseudo R-squared value of 0.5153 suggests that the model is doing a decent job of explaining the variability in the data."
   ]
  },
  {
   "cell_type": "markdown",
   "metadata": {},
   "source": [
    "## Visualize the performance of a binary classification model\n",
    "\n",
    "These codes are used to evaluate and visualize the performance of a binary classification model, such as the logistic regression model. Let's break down each part:\n",
    "\n",
    "##### Calculate Precision, Recall, and F1-Score:\n",
    "\n",
    "These metrics are commonly used to assess the quality of a classification model, particularly in binary classification problems.\n",
    "\n",
    "precision is a measure of how many of the model's positive predictions are actually correct.\n",
    "\n",
    "recall (also called sensitivity) measures how many of the actual positive cases the model correctly identifies.\n",
    "\n",
    "F1 Score is a balance between precision and recall, giving a single value that summarizes the model's performance.\n",
    "\n",
    "The code calculates these metrics by comparing the model's predictions to the actual outcomes in the test set.\n",
    "\n",
    "##### Calculate AUC-ROC (Area Under the Receiver Operating Characteristic Curve):\n",
    "\n",
    "The AUC-ROC is a metric used to assess the model's ability to distinguish between the two classes (positive and negative) across different thresholds.\n",
    "\n",
    "It measures the area under the ROC curve, which is a plot of the true positive rate (sensitivity) against the false positive rate at various thresholds.\n",
    "\n",
    "The code calculates the AUC-ROC by comparing the actual outcomes in the test set to the predicted probabilities generated by the model.\n",
    "\n",
    "A higher AUC-ROC indicates a better model.\n",
    "\n",
    "#### Plot the ROC Curve:\n",
    "\n",
    "The ROC curve visually illustrates the model's performance in distinguishing between the two classes.\n",
    "\n",
    "It's a graph of the true positive rate (sensitivity) against the false positive rate at different thresholds.\n",
    "\n",
    "The ROC curve is shown in dark orange, and a dashed line in navy represents a random or baseline model.\n",
    "\n",
    "The plot provides a visual assessment of how well the model is doing, with the area under the curve (AUC) indicating its performance.\n",
    "\n",
    "In summary, these codes provide a comprehensive evaluation of the binary classification model. They calculate and report key metrics (precision, recall, F1-score, AUC-ROC), which help us understand how well the model is performing. Additionally, the ROC curve visually represents the model's ability to distinguish between classes, and the AUC-ROC score quantifies its overall performance.\n"
   ]
  },
  {
   "cell_type": "code",
   "execution_count": 15,
   "metadata": {},
   "outputs": [
    {
     "name": "stdout",
     "output_type": "stream",
     "text": [
      "Precision: 0.8461538461538461\n",
      "Recall: 0.5409836065573771\n",
      "F1 Score: 0.66\n",
      "AUC-ROC: 0.8515059092642013\n"
     ]
    },
    {
     "data": {
      "image/png": "[encoded data removed]",
      "text/plain": [
       "<Figure size 800x600 with 1 Axes>"
      ]
     },
     "metadata": {},
     "output_type": "display_data"
    }
   ],
   "source": [
    "# Calculate precision, recall, and F1-score\n",
    "precision = precision_score(y_test.values, predictions)\n",
    "recall = recall_score(y_test.values, predictions)\n",
    "f1 = f1_score(y_test.values, predictions)\n",
    "\n",
    "print(\"Precision:\", precision)\n",
    "print(\"Recall:\", recall)\n",
    "print(\"F1 Score:\", f1)\n",
    "\n",
    "# Calculate AUC-ROC\n",
    "y_probabilities = model.predict_proba(x_test.values)[:, 1]\n",
    "roc_auc = roc_auc_score(y_test.values, y_probabilities)\n",
    "print(\"AUC-ROC:\", roc_auc)\n",
    "\n",
    "# Plot ROC curve\n",
    "fpr, tpr, _ = roc_curve(y_test.values, y_probabilities)\n",
    "roc_auc = auc(fpr, tpr)\n",
    "\n",
    "plt.figure(figsize=(8, 6))\n",
    "plt.plot(fpr, tpr, color='darkorange', lw=2, label='ROC curve (area = {:.2f})'.format(roc_auc))\n",
    "plt.plot([0, 1], [0, 1], color='navy', lw=2, linestyle='--')\n",
    "plt.xlim([0.0, 1.0])\n",
    "plt.ylim([0.0, 1.05])\n",
    "plt.xlabel('False Positive Rate')\n",
    "plt.ylabel('True Positive Rate')\n",
    "plt.title('Receiver Operating Characteristic')\n",
    "plt.legend(loc=\"lower right\")\n",
    "plt.show()\n"
   ]
  },
  {
   "cell_type": "markdown",
   "metadata": {},
   "source": [
    "## Interpretation"
   ]
  },
  {
   "cell_type": "markdown",
   "metadata": {},
   "source": [
    "#### What is the model used?\n",
    "\n",
    "The model used in this project is a Logistic Regression model. Logistic regression is a type of statistical model used for binary classification, which means it predicts one of two possible outcomes (in this case, whether a client will subscribe to a term deposit or not).\n",
    "\n",
    "#### What method is used?\n",
    "\n",
    "The method used for this project is Logistic Regression. Logistic regression models the probability that a given input belongs to a particular class (in this case, whether a client will subscribe to a term deposit).\n",
    "\n",
    "#### What is the value of Pseudo R-squared? What does it mean?\n",
    "\n",
    "\"Optimization terminated successfully\": This message indicates that the optimization algorithm used to fit the logistic regression model has completed successfully without any issues. In other words, the model converged to a solution.\n",
    "\n",
    "\"Current function value: 0.335942\": This value represents the value of the negative log-likelihood (the function that the logistic regression model is trying to minimize) at the estimated coefficients. The closer this value is to zero, the better the fit of the model to the data. In your case, the value is 0.335942, which is relatively low and indicates a reasonable fit.\n",
    "\n",
    "\"Iterations 7\": This tells you the number of iterations it took for the optimization algorithm to converge to the solution. In this case, it took 7 iterations.\n",
    "\n",
    "\"Pseudo R-squared (McFadden): 0.5153385192364679\": The Pseudo R-squared (McFadden) is a measure of the goodness of fit for logistic regression models. It's a measure of how well the model explains the variance in the data. A higher value indicates a better fit. In your case, the Pseudo R-squared is 0.5153, which suggests that the model is explaining a substantial portion of the variance in the data, indicating a reasonably good fit.\n",
    "\n",
    "Overall, our logistic regression model seems to have converged successfully, and the Pseudo R-squared value of 0.5153 suggests that the model is doing a decent job of explaining the variability in the data.\n",
    "\n",
    "The term \"Pseudo R-squared\" generally refers to measures of model fit in logistic regression, which are similar to R-squared in linear regression. However, the exact method to calculate it can vary, and it's not a standard output of logistic regression in scikit-learn.\n",
    "\n",
    "Pseudo R-squared values are used to assess how well the model fits the data, with higher values indicating a better fit. They don't have a direct interpretation like R-squared in linear regression.\n",
    "\n",
    "#### What is the coefficient of the duration variable, and what does it mean? \n",
    "\n",
    "The coefficient of the duration variable, represented as approximately 0.00455103, is a crucial component of a logistic regression model. It quantifies how the log-odds of a positive outcome, in this case, a client subscribing to a term deposit, change for a one-unit increase in the duration of the last contact while keeping other factors constant. Specifically, a positive coefficient indicates that as the duration of the last contact with the client increases, there is a corresponding increase in the likelihood of the client subscribing to a term deposit, while a negative coefficient would suggest the opposite effect. The coefficient essentially measures the strength and direction of the relationship between the duration and the likelihood of a positive outcome, making it a key factor in understanding the impact of duration on the prediction.\n",
    "In essence, this coefficient quantifies the strength and direction of the relationship between duration and the probability of a positive outcome, providing valuable insight into the duration's influence on predictions."
   ]
  },
  {
   "cell_type": "code",
   "execution_count": null,
   "metadata": {},
   "outputs": [],
   "source": []
  }
 ],
 "metadata": {
  "kernelspec": {
   "display_name": "Python 3 (ipykernel)",
   "language": "python",
   "name": "python3"
  },
  "language_info": {
   "codemirror_mode": {
    "name": "ipython",
    "version": 3
   },
   "file_extension": ".py",
   "mimetype": "text/x-python",
   "name": "python",
   "nbconvert_exporter": "python",
   "pygments_lexer": "ipython3",
   "version": "3.11.5"
  }
 },
 "nbformat": 4,
 "nbformat_minor": 2
}
